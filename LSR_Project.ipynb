{
 "cells": [
  {
   "cell_type": "markdown",
   "id": "21e01afa-d22d-44f7-82c5-7500c34b37f3",
   "metadata": {},
   "source": [
    "# Least-Squares Regression Project\n",
    "## Statistics, Fall 2021\n",
    "### Name: Michael Hlavaty"
   ]
  },
  {
   "cell_type": "markdown",
   "id": "8326e72f-9328-4b3f-8285-e1338b732c92",
   "metadata": {},
   "source": [
    "#### __TO-DO__: Ask Mr. Lisa/Peer Reviewer about...\n",
    "1. Introduction\n",
    "2. Questions\n",
    "3. Calculate stderr\n",
    "4. Include other vars?"
   ]
  },
  {
   "cell_type": "markdown",
   "id": "e9cdfe2d-71be-4ce9-91f0-bdbe886e15ea",
   "metadata": {},
   "source": [
    "There are many factors that go into the valuation of a house. This dataset for House Prices was created in Ames, Iowa in 2011 by a professor in Statistics named Dean De Cock. According to the data science commuity, this is a reputable dataset, and it has been described as a ‘modernized’ version of the controversial Boston Housing dataset, which I analyzed in my Computer Science 630 class this year. The dataset involves more than 70 explanatory variables, and most of them are categorical data which limits my choice of variables for creating a least-squares regression line (LSRL). In this project, I explore the relationship between Lot Area and Sale Price from the dataset for House Prices in Ames, Iowa and attempt to relate the two factors using a LSRL."
   ]
  },
  {
   "cell_type": "code",
   "execution_count": 34,
   "id": "741d839d-f3e7-4642-a7c4-83928b51d8f0",
   "metadata": {},
   "outputs": [],
   "source": [
    "# Importing a number of helpful Python libraries for calculating and interpreting data\n",
    "import numpy as np\n",
    "import matplotlib.pyplot as plt\n",
    "import pandas as pd\n",
    "from scipy.stats import linregress\n",
    "import math"
   ]
  },
  {
   "cell_type": "code",
   "execution_count": 35,
   "id": "c39c8f31-c618-456e-8a4a-9adf3896ac45",
   "metadata": {},
   "outputs": [
    {
     "data": {
      "text/html": [
       "<div>\n",
       "<style scoped>\n",
       "    .dataframe tbody tr th:only-of-type {\n",
       "        vertical-align: middle;\n",
       "    }\n",
       "\n",
       "    .dataframe tbody tr th {\n",
       "        vertical-align: top;\n",
       "    }\n",
       "\n",
       "    .dataframe thead th {\n",
       "        text-align: right;\n",
       "    }\n",
       "</style>\n",
       "<table border=\"1\" class=\"dataframe\">\n",
       "  <thead>\n",
       "    <tr style=\"text-align: right;\">\n",
       "      <th></th>\n",
       "      <th>Id</th>\n",
       "      <th>MSSubClass</th>\n",
       "      <th>MSZoning</th>\n",
       "      <th>LotFrontage</th>\n",
       "      <th>LotArea</th>\n",
       "      <th>Street</th>\n",
       "      <th>Alley</th>\n",
       "      <th>LotShape</th>\n",
       "      <th>LandContour</th>\n",
       "      <th>Utilities</th>\n",
       "      <th>...</th>\n",
       "      <th>PoolArea</th>\n",
       "      <th>PoolQC</th>\n",
       "      <th>Fence</th>\n",
       "      <th>MiscFeature</th>\n",
       "      <th>MiscVal</th>\n",
       "      <th>MoSold</th>\n",
       "      <th>YrSold</th>\n",
       "      <th>SaleType</th>\n",
       "      <th>SaleCondition</th>\n",
       "      <th>SalePrice</th>\n",
       "    </tr>\n",
       "  </thead>\n",
       "  <tbody>\n",
       "    <tr>\n",
       "      <th>0</th>\n",
       "      <td>1</td>\n",
       "      <td>60</td>\n",
       "      <td>RL</td>\n",
       "      <td>65.0</td>\n",
       "      <td>8450</td>\n",
       "      <td>Pave</td>\n",
       "      <td>NaN</td>\n",
       "      <td>Reg</td>\n",
       "      <td>Lvl</td>\n",
       "      <td>AllPub</td>\n",
       "      <td>...</td>\n",
       "      <td>0</td>\n",
       "      <td>NaN</td>\n",
       "      <td>NaN</td>\n",
       "      <td>NaN</td>\n",
       "      <td>0</td>\n",
       "      <td>2</td>\n",
       "      <td>2008</td>\n",
       "      <td>WD</td>\n",
       "      <td>Normal</td>\n",
       "      <td>208500</td>\n",
       "    </tr>\n",
       "    <tr>\n",
       "      <th>1</th>\n",
       "      <td>2</td>\n",
       "      <td>20</td>\n",
       "      <td>RL</td>\n",
       "      <td>80.0</td>\n",
       "      <td>9600</td>\n",
       "      <td>Pave</td>\n",
       "      <td>NaN</td>\n",
       "      <td>Reg</td>\n",
       "      <td>Lvl</td>\n",
       "      <td>AllPub</td>\n",
       "      <td>...</td>\n",
       "      <td>0</td>\n",
       "      <td>NaN</td>\n",
       "      <td>NaN</td>\n",
       "      <td>NaN</td>\n",
       "      <td>0</td>\n",
       "      <td>5</td>\n",
       "      <td>2007</td>\n",
       "      <td>WD</td>\n",
       "      <td>Normal</td>\n",
       "      <td>181500</td>\n",
       "    </tr>\n",
       "    <tr>\n",
       "      <th>2</th>\n",
       "      <td>3</td>\n",
       "      <td>60</td>\n",
       "      <td>RL</td>\n",
       "      <td>68.0</td>\n",
       "      <td>11250</td>\n",
       "      <td>Pave</td>\n",
       "      <td>NaN</td>\n",
       "      <td>IR1</td>\n",
       "      <td>Lvl</td>\n",
       "      <td>AllPub</td>\n",
       "      <td>...</td>\n",
       "      <td>0</td>\n",
       "      <td>NaN</td>\n",
       "      <td>NaN</td>\n",
       "      <td>NaN</td>\n",
       "      <td>0</td>\n",
       "      <td>9</td>\n",
       "      <td>2008</td>\n",
       "      <td>WD</td>\n",
       "      <td>Normal</td>\n",
       "      <td>223500</td>\n",
       "    </tr>\n",
       "    <tr>\n",
       "      <th>3</th>\n",
       "      <td>4</td>\n",
       "      <td>70</td>\n",
       "      <td>RL</td>\n",
       "      <td>60.0</td>\n",
       "      <td>9550</td>\n",
       "      <td>Pave</td>\n",
       "      <td>NaN</td>\n",
       "      <td>IR1</td>\n",
       "      <td>Lvl</td>\n",
       "      <td>AllPub</td>\n",
       "      <td>...</td>\n",
       "      <td>0</td>\n",
       "      <td>NaN</td>\n",
       "      <td>NaN</td>\n",
       "      <td>NaN</td>\n",
       "      <td>0</td>\n",
       "      <td>2</td>\n",
       "      <td>2006</td>\n",
       "      <td>WD</td>\n",
       "      <td>Abnorml</td>\n",
       "      <td>140000</td>\n",
       "    </tr>\n",
       "    <tr>\n",
       "      <th>4</th>\n",
       "      <td>5</td>\n",
       "      <td>60</td>\n",
       "      <td>RL</td>\n",
       "      <td>84.0</td>\n",
       "      <td>14260</td>\n",
       "      <td>Pave</td>\n",
       "      <td>NaN</td>\n",
       "      <td>IR1</td>\n",
       "      <td>Lvl</td>\n",
       "      <td>AllPub</td>\n",
       "      <td>...</td>\n",
       "      <td>0</td>\n",
       "      <td>NaN</td>\n",
       "      <td>NaN</td>\n",
       "      <td>NaN</td>\n",
       "      <td>0</td>\n",
       "      <td>12</td>\n",
       "      <td>2008</td>\n",
       "      <td>WD</td>\n",
       "      <td>Normal</td>\n",
       "      <td>250000</td>\n",
       "    </tr>\n",
       "  </tbody>\n",
       "</table>\n",
       "<p>5 rows × 81 columns</p>\n",
       "</div>"
      ],
      "text/plain": [
       "   Id  MSSubClass MSZoning  LotFrontage  LotArea Street Alley LotShape  \\\n",
       "0   1          60       RL         65.0     8450   Pave   NaN      Reg   \n",
       "1   2          20       RL         80.0     9600   Pave   NaN      Reg   \n",
       "2   3          60       RL         68.0    11250   Pave   NaN      IR1   \n",
       "3   4          70       RL         60.0     9550   Pave   NaN      IR1   \n",
       "4   5          60       RL         84.0    14260   Pave   NaN      IR1   \n",
       "\n",
       "  LandContour Utilities  ... PoolArea PoolQC Fence MiscFeature MiscVal MoSold  \\\n",
       "0         Lvl    AllPub  ...        0    NaN   NaN         NaN       0      2   \n",
       "1         Lvl    AllPub  ...        0    NaN   NaN         NaN       0      5   \n",
       "2         Lvl    AllPub  ...        0    NaN   NaN         NaN       0      9   \n",
       "3         Lvl    AllPub  ...        0    NaN   NaN         NaN       0      2   \n",
       "4         Lvl    AllPub  ...        0    NaN   NaN         NaN       0     12   \n",
       "\n",
       "  YrSold  SaleType  SaleCondition  SalePrice  \n",
       "0   2008        WD         Normal     208500  \n",
       "1   2007        WD         Normal     181500  \n",
       "2   2008        WD         Normal     223500  \n",
       "3   2006        WD        Abnorml     140000  \n",
       "4   2008        WD         Normal     250000  \n",
       "\n",
       "[5 rows x 81 columns]"
      ]
     },
     "execution_count": 35,
     "metadata": {},
     "output_type": "execute_result"
    }
   ],
   "source": [
    "# Importing the data\n",
    "data = pd.read_csv('house-prices-advanced-regression-techniques/train.csv') \n",
    "data.head() # View a sample of the data"
   ]
  },
  {
   "cell_type": "markdown",
   "id": "3f5faeb1-83da-40cb-ab10-cbc444ae81fa",
   "metadata": {},
   "source": [
    "Okay, this shows us all of the variables included in the dataset. For this project, we are only focusing on the `LotArea` and `Sale Price`\n",
    "\n",
    "* `LotArea` is the lot area of the house in square feet\n",
    "* `SalePrice` is the actual sale price of the house in US dollars\n",
    "\n",
    "I want to find out if a linear model is appropriate for comparing `LotArea` and `SalePrice`. If so, how well does a LSRL fit these data?\n",
    "\n",
    "To do this, I will first plot the data in a scatterplot and residual plot. If the linear model appears to be appropriate, I will use the r and r^2 values to analyze how well the LSRL fits the dataset."
   ]
  },
  {
   "cell_type": "markdown",
   "id": "39a1ab1a-4e22-4d56-b3cd-558359de607d",
   "metadata": {},
   "source": [
    "### LotArea and SalePrice"
   ]
  },
  {
   "cell_type": "code",
   "execution_count": 36,
   "id": "c269e65a-a005-495d-9e15-a8e2f753f3f3",
   "metadata": {},
   "outputs": [
    {
     "data": {
      "text/html": [
       "<div>\n",
       "<style scoped>\n",
       "    .dataframe tbody tr th:only-of-type {\n",
       "        vertical-align: middle;\n",
       "    }\n",
       "\n",
       "    .dataframe tbody tr th {\n",
       "        vertical-align: top;\n",
       "    }\n",
       "\n",
       "    .dataframe thead th {\n",
       "        text-align: right;\n",
       "    }\n",
       "</style>\n",
       "<table border=\"1\" class=\"dataframe\">\n",
       "  <thead>\n",
       "    <tr style=\"text-align: right;\">\n",
       "      <th></th>\n",
       "      <th>LotArea</th>\n",
       "      <th>SalePrice</th>\n",
       "    </tr>\n",
       "  </thead>\n",
       "  <tbody>\n",
       "    <tr>\n",
       "      <th>0</th>\n",
       "      <td>8450</td>\n",
       "      <td>208500</td>\n",
       "    </tr>\n",
       "    <tr>\n",
       "      <th>1</th>\n",
       "      <td>9600</td>\n",
       "      <td>181500</td>\n",
       "    </tr>\n",
       "    <tr>\n",
       "      <th>2</th>\n",
       "      <td>11250</td>\n",
       "      <td>223500</td>\n",
       "    </tr>\n",
       "    <tr>\n",
       "      <th>3</th>\n",
       "      <td>9550</td>\n",
       "      <td>140000</td>\n",
       "    </tr>\n",
       "    <tr>\n",
       "      <th>4</th>\n",
       "      <td>14260</td>\n",
       "      <td>250000</td>\n",
       "    </tr>\n",
       "    <tr>\n",
       "      <th>...</th>\n",
       "      <td>...</td>\n",
       "      <td>...</td>\n",
       "    </tr>\n",
       "    <tr>\n",
       "      <th>1455</th>\n",
       "      <td>7917</td>\n",
       "      <td>175000</td>\n",
       "    </tr>\n",
       "    <tr>\n",
       "      <th>1456</th>\n",
       "      <td>13175</td>\n",
       "      <td>210000</td>\n",
       "    </tr>\n",
       "    <tr>\n",
       "      <th>1457</th>\n",
       "      <td>9042</td>\n",
       "      <td>266500</td>\n",
       "    </tr>\n",
       "    <tr>\n",
       "      <th>1458</th>\n",
       "      <td>9717</td>\n",
       "      <td>142125</td>\n",
       "    </tr>\n",
       "    <tr>\n",
       "      <th>1459</th>\n",
       "      <td>9937</td>\n",
       "      <td>147500</td>\n",
       "    </tr>\n",
       "  </tbody>\n",
       "</table>\n",
       "<p>1460 rows × 2 columns</p>\n",
       "</div>"
      ],
      "text/plain": [
       "      LotArea  SalePrice\n",
       "0        8450     208500\n",
       "1        9600     181500\n",
       "2       11250     223500\n",
       "3        9550     140000\n",
       "4       14260     250000\n",
       "...       ...        ...\n",
       "1455     7917     175000\n",
       "1456    13175     210000\n",
       "1457     9042     266500\n",
       "1458     9717     142125\n",
       "1459     9937     147500\n",
       "\n",
       "[1460 rows x 2 columns]"
      ]
     },
     "execution_count": 36,
     "metadata": {},
     "output_type": "execute_result"
    }
   ],
   "source": [
    "# Creating a table containing LotArea and SalePrice\n",
    "LotArea_x_SalePrice = data[['LotArea', 'SalePrice']]\n",
    "LotArea_x_SalePrice"
   ]
  },
  {
   "cell_type": "code",
   "execution_count": 37,
   "id": "311a6d18-3f34-4d2f-a3eb-fa9b958964eb",
   "metadata": {},
   "outputs": [
    {
     "data": {
      "text/html": [
       "<div>\n",
       "<style scoped>\n",
       "    .dataframe tbody tr th:only-of-type {\n",
       "        vertical-align: middle;\n",
       "    }\n",
       "\n",
       "    .dataframe tbody tr th {\n",
       "        vertical-align: top;\n",
       "    }\n",
       "\n",
       "    .dataframe thead th {\n",
       "        text-align: right;\n",
       "    }\n",
       "</style>\n",
       "<table border=\"1\" class=\"dataframe\">\n",
       "  <thead>\n",
       "    <tr style=\"text-align: right;\">\n",
       "      <th></th>\n",
       "      <th>LotArea</th>\n",
       "      <th>SalePrice</th>\n",
       "    </tr>\n",
       "  </thead>\n",
       "  <tbody>\n",
       "  </tbody>\n",
       "</table>\n",
       "</div>"
      ],
      "text/plain": [
       "Empty DataFrame\n",
       "Columns: [LotArea, SalePrice]\n",
       "Index: []"
      ]
     },
     "execution_count": 37,
     "metadata": {},
     "output_type": "execute_result"
    }
   ],
   "source": [
    "# Looking for any missing data\n",
    "LotArea_x_SalePrice[LotArea_x_SalePrice.isnull().any(axis=1)]"
   ]
  },
  {
   "cell_type": "markdown",
   "id": "b1eb9b95-ace3-4cb5-a4b2-9dbdea5f6772",
   "metadata": {},
   "source": [
    "Great! There appears to be no missing data for these two variables. Let's start comparing analyzing these two variables."
   ]
  },
  {
   "cell_type": "markdown",
   "id": "230ce06c-c1ad-411c-b3e5-5a91f07aeb91",
   "metadata": {},
   "source": [
    "#### Graphs for Lot Area and Sale Price"
   ]
  },
  {
   "cell_type": "code",
   "execution_count": 38,
   "id": "d1d447e1-9d94-46ad-9602-520ed07b6fa5",
   "metadata": {},
   "outputs": [
    {
     "name": "stdout",
     "output_type": "stream",
     "text": [
      "Slope: 2.0999719517076754\n",
      "Intercept: 158836.15189687657\n",
      "R value: 0.26384335387140573\n",
      "R^2: 0.06961331538211182\n",
      "\n",
      "LSRL: y_hat = 158836.15189687657+2.0999719517076754x\n",
      "\n"
     ]
    },
    {
     "data": {
      "image/png": "[encoded data removed]",
      "text/plain": [
       "<Figure size 432x288 with 1 Axes>"
      ]
     },
     "metadata": {},
     "output_type": "display_data"
    }
   ],
   "source": [
    "# Creating a scatterplot\n",
    "lot_areas = np.array([i for i in data.LotArea])\n",
    "sale_prices = np.array([i for i in data.SalePrice])\n",
    "plt.scatter(lot_areas, sale_prices)\n",
    "plt.title(\"Sale Price by Lot Area\")\n",
    "plt.xlabel(\"Lot Area (sq. ft)\")\n",
    "plt.ylabel(\"Sale Price (USD)\")\n",
    "\n",
    "(slope, intercept, rvalue) = linregress(lot_areas,sale_prices)[:3]\n",
    "y_pred = intercept + slope*lot_areas\n",
    "plt.plot(lot_areas,y_pred, color=\"green\", label=\"Fitted line\")\n",
    "\n",
    "print(\"Slope: {}\\nIntercept: {}\\nR value: {}\\nR^2: {}\\n\".format(slope, intercept, rvalue, rvalue**2))\n",
    "print(\"LSRL: y_hat = {}+{}x\\n\".format(intercept, slope))\n",
    "\n",
    "plt.show()"
   ]
  },
  {
   "cell_type": "code",
   "execution_count": 44,
   "id": "ad6f9afd-aac7-4888-99b7-e827da7843b0",
   "metadata": {},
   "outputs": [
    {
     "data": {
      "image/png": "[encoded data removed]",
      "text/plain": [
       "<Figure size 432x288 with 1 Axes>"
      ]
     },
     "metadata": {},
     "output_type": "display_data"
    }
   ],
   "source": [
    "# Creating a residual plot\n",
    "def get_y_hat(x_set):\n",
    "    y_hats = []\n",
    "    for x in x_set:\n",
    "        y_hat = slope*x + intercept\n",
    "        y_hats.append(y_hat)\n",
    "    return y_hats\n",
    "\n",
    "y_hats = get_y_hat(lot_areas)\n",
    "residuals = sale_prices - y_hats\n",
    "import seaborn\n",
    "seaborn.set(style='ticks')\n",
    "plt.plot(lot_areas, residuals,'o')\n",
    "plt.axhline(y=0, color='k')\n",
    "plt.ylabel(\"Residual\")\n",
    "plt.xlabel(\"Lot Area\")\n",
    "plt.title(\"Sale Price by Lot Area LSRL Residual Plot\")\n",
    "plt.show()"
   ]
  },
  {
   "cell_type": "markdown",
   "id": "8e05a7fc-f0b8-4c3c-8ae5-95b35cdf649c",
   "metadata": {},
   "source": [
    "#### Analysis of Graphs for Lot Area and Sale Price"
   ]
  },
  {
   "cell_type": "markdown",
   "id": "94524e01-18a5-4324-9ed7-63f2eb9cb23e",
   "metadata": {},
   "source": [
    "There appears to be a weak, positive, linear association between the `LotArea` of a house and its `SalePrice`. In the scatterplot, there appear to be many outliers in both the x-axis and y-axis. For example, there is an observation around `SalePrice` = $700,000 that appears to deviate a lot from the the rest of houses' `SalePrice` with similar `LotArea` values. There is a lot of `SalePrice` variability for houses with `LotAreas` less than 50,000 sq.ft. In the residual plot, there does not appear to be any obvious overall patterns. Therefore, a linear model is appropriate.\n",
    "\n",
    "From the computer output, the estimated `SalePrice` based on the `LotArea` is modeled with the LSRL of y_hat = 158836.15189687657+2.0999719517076754x. This means that the `SalePrice` of a house increased approximately $2.10 for every increase of one sq. ft. of `LotArea`. The r-value = 0.26384335387140573, meaning that the data is only weakly correlated. The standard deviation of the residuals is s=XYZ, meaning that the LSRL's predicted values will typically be off by XYZ when using a linear model to relate `LotArea` and `SalePrice`. Finally, only 0.06961331538211182 or around 6.96% of the `SalePrice` variation is accounted by the LSRL relating `LotArea` and `SalePrice`.\n",
    "\n",
    "A linear model may seem appropriate for comparing `LotArea` to `SalePrice`, but the predictions from the LSRL will likely be inaccurate. The typical prediction error is XYZ, and more than 90% of the variation in the dataset is unaccounted for by the LSRL."
   ]
  }
 ],
 "metadata": {
  "kernelspec": {
   "display_name": "Python 3",
   "language": "python",
   "name": "python3"
  },
  "language_info": {
   "codemirror_mode": {
    "name": "ipython",
    "version": 3
   },
   "file_extension": ".py",
   "mimetype": "text/x-python",
   "name": "python",
   "nbconvert_exporter": "python",
   "pygments_lexer": "ipython3",
   "version": "3.8.8"
  }
 },
 "nbformat": 4,
 "nbformat_minor": 5
}
