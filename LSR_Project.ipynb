{
 "cells": [
  {
   "cell_type": "markdown",
   "id": "21e01afa-d22d-44f7-82c5-7500c34b37f3",
   "metadata": {},
   "source": [
    "# Least-Squares Regression Project: `LotArea` and `SalePrice` in Ames, Iowa Housing Dataset\n",
    "## Statistics, Fall 2021\n",
    "### Name: Michael Hlavaty"
   ]
  },
  {
   "cell_type": "markdown",
   "id": "c80bc858-6c00-4629-903c-5ca301c875c7",
   "metadata": {},
   "source": [
    "![Houses](ames_houses.jpeg)"
   ]
  },
  {
   "cell_type": "markdown",
   "id": "e189714b-d33f-4845-878c-caf63b7b76b4",
   "metadata": {},
   "source": [
    "## Sources"
   ]
  },
  {
   "cell_type": "markdown",
   "id": "22d71947-258b-409e-8020-4686ed97cb4b",
   "metadata": {},
   "source": [
    "* https://www.kaggle.com/c/house-prices-advanced-regression-techniques <-- where dataset was obtained from\n",
    "* http://jse.amstat.org/v19n3/decock.pdf <-- description of dataset\n",
    "* https://www.tmwr.org/ames.html <-- validation of dataset\n",
    "* https://medium.com/@rbkim1990/going-through-the-data-science-process-and-the-ames-ia-housing-dataset-44dbd0560510 <-- cover image"
   ]
  },
  {
   "cell_type": "markdown",
   "id": "b982fb35-ba46-4d1d-b3a5-eaa3a8ba5532",
   "metadata": {},
   "source": [
    "## Introduction"
   ]
  },
  {
   "cell_type": "markdown",
   "id": "e9cdfe2d-71be-4ce9-91f0-bdbe886e15ea",
   "metadata": {},
   "source": [
    "There are many factors that go into the valuation of a house. My parents recently bought a property in Hoboken, New Jersey. As a teenager with little experience in the process of buying a house, I expect that the larger the property size, the higher the valuation of the house. I wonder, how strong is the relationship between the size of the property and the sale price of the house in Ames, Iowa? Would it be reasonable to use a linear model to relate these two factors?\n",
    "\n",
    "I will be using a dataset for house prices for houses in Ames, Iowa betwen 2006 and 2010, published by a professor in Statistics named Dean De Cock in 2011. According to the data science commuity, this is a reputable dataset (https://www.tmwr.org/ames.html), and it has been described as a modernized version of the controversial Boston Housing dataset (http://jse.amstat.org/v19n3/decock.pdf), which I analyzed in my Computer Science 630 class this year. The Ames Housing dataset includes more than 70 explanatory variables, and in this project, I explore the relationship between a house's Lot Area and Sale Price from the dataset for House Prices in Ames, Iowa and attempt to relate the two factors using a least-square regression line (LSRL)."
   ]
  },
  {
   "cell_type": "markdown",
   "id": "a176ecaa-a899-4977-af71-d7638fe58b47",
   "metadata": {},
   "source": [
    "### Data"
   ]
  },
  {
   "cell_type": "code",
   "execution_count": 1,
   "id": "741d839d-f3e7-4642-a7c4-83928b51d8f0",
   "metadata": {},
   "outputs": [],
   "source": [
    "# Importing a number of helpful Python libraries for calculating and interpreting data\n",
    "import numpy as np\n",
    "import matplotlib.pyplot as plt\n",
    "import pandas as pd\n",
    "from scipy.stats import linregress\n",
    "import math"
   ]
  },
  {
   "cell_type": "code",
   "execution_count": 2,
   "id": "c39c8f31-c618-456e-8a4a-9adf3896ac45",
   "metadata": {},
   "outputs": [
    {
     "data": {
      "text/html": [
       "<div>\n",
       "<style scoped>\n",
       "    .dataframe tbody tr th:only-of-type {\n",
       "        vertical-align: middle;\n",
       "    }\n",
       "\n",
       "    .dataframe tbody tr th {\n",
       "        vertical-align: top;\n",
       "    }\n",
       "\n",
       "    .dataframe thead th {\n",
       "        text-align: right;\n",
       "    }\n",
       "</style>\n",
       "<table border=\"1\" class=\"dataframe\">\n",
       "  <thead>\n",
       "    <tr style=\"text-align: right;\">\n",
       "      <th></th>\n",
       "      <th>Id</th>\n",
       "      <th>MSSubClass</th>\n",
       "      <th>MSZoning</th>\n",
       "      <th>LotFrontage</th>\n",
       "      <th>LotArea</th>\n",
       "      <th>Street</th>\n",
       "      <th>Alley</th>\n",
       "      <th>LotShape</th>\n",
       "      <th>LandContour</th>\n",
       "      <th>Utilities</th>\n",
       "      <th>...</th>\n",
       "      <th>PoolArea</th>\n",
       "      <th>PoolQC</th>\n",
       "      <th>Fence</th>\n",
       "      <th>MiscFeature</th>\n",
       "      <th>MiscVal</th>\n",
       "      <th>MoSold</th>\n",
       "      <th>YrSold</th>\n",
       "      <th>SaleType</th>\n",
       "      <th>SaleCondition</th>\n",
       "      <th>SalePrice</th>\n",
       "    </tr>\n",
       "  </thead>\n",
       "  <tbody>\n",
       "    <tr>\n",
       "      <th>0</th>\n",
       "      <td>1</td>\n",
       "      <td>60</td>\n",
       "      <td>RL</td>\n",
       "      <td>65.0</td>\n",
       "      <td>8450</td>\n",
       "      <td>Pave</td>\n",
       "      <td>NaN</td>\n",
       "      <td>Reg</td>\n",
       "      <td>Lvl</td>\n",
       "      <td>AllPub</td>\n",
       "      <td>...</td>\n",
       "      <td>0</td>\n",
       "      <td>NaN</td>\n",
       "      <td>NaN</td>\n",
       "      <td>NaN</td>\n",
       "      <td>0</td>\n",
       "      <td>2</td>\n",
       "      <td>2008</td>\n",
       "      <td>WD</td>\n",
       "      <td>Normal</td>\n",
       "      <td>208500</td>\n",
       "    </tr>\n",
       "    <tr>\n",
       "      <th>1</th>\n",
       "      <td>2</td>\n",
       "      <td>20</td>\n",
       "      <td>RL</td>\n",
       "      <td>80.0</td>\n",
       "      <td>9600</td>\n",
       "      <td>Pave</td>\n",
       "      <td>NaN</td>\n",
       "      <td>Reg</td>\n",
       "      <td>Lvl</td>\n",
       "      <td>AllPub</td>\n",
       "      <td>...</td>\n",
       "      <td>0</td>\n",
       "      <td>NaN</td>\n",
       "      <td>NaN</td>\n",
       "      <td>NaN</td>\n",
       "      <td>0</td>\n",
       "      <td>5</td>\n",
       "      <td>2007</td>\n",
       "      <td>WD</td>\n",
       "      <td>Normal</td>\n",
       "      <td>181500</td>\n",
       "    </tr>\n",
       "    <tr>\n",
       "      <th>2</th>\n",
       "      <td>3</td>\n",
       "      <td>60</td>\n",
       "      <td>RL</td>\n",
       "      <td>68.0</td>\n",
       "      <td>11250</td>\n",
       "      <td>Pave</td>\n",
       "      <td>NaN</td>\n",
       "      <td>IR1</td>\n",
       "      <td>Lvl</td>\n",
       "      <td>AllPub</td>\n",
       "      <td>...</td>\n",
       "      <td>0</td>\n",
       "      <td>NaN</td>\n",
       "      <td>NaN</td>\n",
       "      <td>NaN</td>\n",
       "      <td>0</td>\n",
       "      <td>9</td>\n",
       "      <td>2008</td>\n",
       "      <td>WD</td>\n",
       "      <td>Normal</td>\n",
       "      <td>223500</td>\n",
       "    </tr>\n",
       "    <tr>\n",
       "      <th>3</th>\n",
       "      <td>4</td>\n",
       "      <td>70</td>\n",
       "      <td>RL</td>\n",
       "      <td>60.0</td>\n",
       "      <td>9550</td>\n",
       "      <td>Pave</td>\n",
       "      <td>NaN</td>\n",
       "      <td>IR1</td>\n",
       "      <td>Lvl</td>\n",
       "      <td>AllPub</td>\n",
       "      <td>...</td>\n",
       "      <td>0</td>\n",
       "      <td>NaN</td>\n",
       "      <td>NaN</td>\n",
       "      <td>NaN</td>\n",
       "      <td>0</td>\n",
       "      <td>2</td>\n",
       "      <td>2006</td>\n",
       "      <td>WD</td>\n",
       "      <td>Abnorml</td>\n",
       "      <td>140000</td>\n",
       "    </tr>\n",
       "    <tr>\n",
       "      <th>4</th>\n",
       "      <td>5</td>\n",
       "      <td>60</td>\n",
       "      <td>RL</td>\n",
       "      <td>84.0</td>\n",
       "      <td>14260</td>\n",
       "      <td>Pave</td>\n",
       "      <td>NaN</td>\n",
       "      <td>IR1</td>\n",
       "      <td>Lvl</td>\n",
       "      <td>AllPub</td>\n",
       "      <td>...</td>\n",
       "      <td>0</td>\n",
       "      <td>NaN</td>\n",
       "      <td>NaN</td>\n",
       "      <td>NaN</td>\n",
       "      <td>0</td>\n",
       "      <td>12</td>\n",
       "      <td>2008</td>\n",
       "      <td>WD</td>\n",
       "      <td>Normal</td>\n",
       "      <td>250000</td>\n",
       "    </tr>\n",
       "  </tbody>\n",
       "</table>\n",
       "<p>5 rows × 81 columns</p>\n",
       "</div>"
      ],
      "text/plain": [
       "   Id  MSSubClass MSZoning  LotFrontage  LotArea Street Alley LotShape  \\\n",
       "0   1          60       RL         65.0     8450   Pave   NaN      Reg   \n",
       "1   2          20       RL         80.0     9600   Pave   NaN      Reg   \n",
       "2   3          60       RL         68.0    11250   Pave   NaN      IR1   \n",
       "3   4          70       RL         60.0     9550   Pave   NaN      IR1   \n",
       "4   5          60       RL         84.0    14260   Pave   NaN      IR1   \n",
       "\n",
       "  LandContour Utilities  ... PoolArea PoolQC Fence MiscFeature MiscVal MoSold  \\\n",
       "0         Lvl    AllPub  ...        0    NaN   NaN         NaN       0      2   \n",
       "1         Lvl    AllPub  ...        0    NaN   NaN         NaN       0      5   \n",
       "2         Lvl    AllPub  ...        0    NaN   NaN         NaN       0      9   \n",
       "3         Lvl    AllPub  ...        0    NaN   NaN         NaN       0      2   \n",
       "4         Lvl    AllPub  ...        0    NaN   NaN         NaN       0     12   \n",
       "\n",
       "  YrSold  SaleType  SaleCondition  SalePrice  \n",
       "0   2008        WD         Normal     208500  \n",
       "1   2007        WD         Normal     181500  \n",
       "2   2008        WD         Normal     223500  \n",
       "3   2006        WD        Abnorml     140000  \n",
       "4   2008        WD         Normal     250000  \n",
       "\n",
       "[5 rows x 81 columns]"
      ]
     },
     "execution_count": 2,
     "metadata": {},
     "output_type": "execute_result"
    }
   ],
   "source": [
    "# Importing the entire dataset and naming the dataset `data`\n",
    "data = pd.read_csv('house-prices-advanced-regression-techniques/train.csv') \n",
    "data.head() # View a sample of data"
   ]
  },
  {
   "cell_type": "markdown",
   "id": "3f5faeb1-83da-40cb-ab10-cbc444ae81fa",
   "metadata": {},
   "source": [
    "Okay, this shows us all of the variables included in the dataset. For this project, we are only focusing on the `LotArea` and `Sale Price` for two reasons. Firstly, both variables are quantitative, so they can be modeled with a scatterplot. Secondly, I my experiences with houses cause me to expect there to be a linear relationship for these two features.\n",
    "\n",
    "* `LotArea` is the lot area of the house in square feet. This is the explanatory variable because I am analyzing how changes in `LotArea` _explain or cause_ a change in `SalePrice`.\n",
    "* `SalePrice` is the actual sale price of the house in US dollars. This is the response variable because I am analyzing how the `SalePrice` _responds_ to the value of the `LotArea`.\n",
    "\n",
    "I want to find out if a linear model is appropriate for comparing `LotArea` and `SalePrice`. If so, how well does a LSRL fit these data?\n",
    "\n",
    "To do this, I will first plot the data in a scatterplot and residual plot. If the linear model appears to be appropriate, I will use the `r` and `r^2` values to analyze how well the LSRL fits the dataset."
   ]
  },
  {
   "cell_type": "markdown",
   "id": "39a1ab1a-4e22-4d56-b3cd-558359de607d",
   "metadata": {},
   "source": [
    "## Diving into `LotArea` and `SalePrice`"
   ]
  },
  {
   "cell_type": "code",
   "execution_count": 3,
   "id": "c269e65a-a005-495d-9e15-a8e2f753f3f3",
   "metadata": {},
   "outputs": [
    {
     "data": {
      "text/html": [
       "<div>\n",
       "<style scoped>\n",
       "    .dataframe tbody tr th:only-of-type {\n",
       "        vertical-align: middle;\n",
       "    }\n",
       "\n",
       "    .dataframe tbody tr th {\n",
       "        vertical-align: top;\n",
       "    }\n",
       "\n",
       "    .dataframe thead th {\n",
       "        text-align: right;\n",
       "    }\n",
       "</style>\n",
       "<table border=\"1\" class=\"dataframe\">\n",
       "  <thead>\n",
       "    <tr style=\"text-align: right;\">\n",
       "      <th></th>\n",
       "      <th>LotArea</th>\n",
       "      <th>SalePrice</th>\n",
       "    </tr>\n",
       "  </thead>\n",
       "  <tbody>\n",
       "    <tr>\n",
       "      <th>0</th>\n",
       "      <td>8450</td>\n",
       "      <td>208500</td>\n",
       "    </tr>\n",
       "    <tr>\n",
       "      <th>1</th>\n",
       "      <td>9600</td>\n",
       "      <td>181500</td>\n",
       "    </tr>\n",
       "    <tr>\n",
       "      <th>2</th>\n",
       "      <td>11250</td>\n",
       "      <td>223500</td>\n",
       "    </tr>\n",
       "    <tr>\n",
       "      <th>3</th>\n",
       "      <td>9550</td>\n",
       "      <td>140000</td>\n",
       "    </tr>\n",
       "    <tr>\n",
       "      <th>4</th>\n",
       "      <td>14260</td>\n",
       "      <td>250000</td>\n",
       "    </tr>\n",
       "    <tr>\n",
       "      <th>...</th>\n",
       "      <td>...</td>\n",
       "      <td>...</td>\n",
       "    </tr>\n",
       "    <tr>\n",
       "      <th>1455</th>\n",
       "      <td>7917</td>\n",
       "      <td>175000</td>\n",
       "    </tr>\n",
       "    <tr>\n",
       "      <th>1456</th>\n",
       "      <td>13175</td>\n",
       "      <td>210000</td>\n",
       "    </tr>\n",
       "    <tr>\n",
       "      <th>1457</th>\n",
       "      <td>9042</td>\n",
       "      <td>266500</td>\n",
       "    </tr>\n",
       "    <tr>\n",
       "      <th>1458</th>\n",
       "      <td>9717</td>\n",
       "      <td>142125</td>\n",
       "    </tr>\n",
       "    <tr>\n",
       "      <th>1459</th>\n",
       "      <td>9937</td>\n",
       "      <td>147500</td>\n",
       "    </tr>\n",
       "  </tbody>\n",
       "</table>\n",
       "<p>1460 rows × 2 columns</p>\n",
       "</div>"
      ],
      "text/plain": [
       "      LotArea  SalePrice\n",
       "0        8450     208500\n",
       "1        9600     181500\n",
       "2       11250     223500\n",
       "3        9550     140000\n",
       "4       14260     250000\n",
       "...       ...        ...\n",
       "1455     7917     175000\n",
       "1456    13175     210000\n",
       "1457     9042     266500\n",
       "1458     9717     142125\n",
       "1459     9937     147500\n",
       "\n",
       "[1460 rows x 2 columns]"
      ]
     },
     "execution_count": 3,
     "metadata": {},
     "output_type": "execute_result"
    }
   ],
   "source": [
    "# Creating and viewing a table for LotArea and SalePrice\n",
    "LotArea_x_SalePrice = data[['LotArea', 'SalePrice']]\n",
    "LotArea_x_SalePrice"
   ]
  },
  {
   "cell_type": "code",
   "execution_count": 4,
   "id": "311a6d18-3f34-4d2f-a3eb-fa9b958964eb",
   "metadata": {},
   "outputs": [
    {
     "data": {
      "text/html": [
       "<div>\n",
       "<style scoped>\n",
       "    .dataframe tbody tr th:only-of-type {\n",
       "        vertical-align: middle;\n",
       "    }\n",
       "\n",
       "    .dataframe tbody tr th {\n",
       "        vertical-align: top;\n",
       "    }\n",
       "\n",
       "    .dataframe thead th {\n",
       "        text-align: right;\n",
       "    }\n",
       "</style>\n",
       "<table border=\"1\" class=\"dataframe\">\n",
       "  <thead>\n",
       "    <tr style=\"text-align: right;\">\n",
       "      <th></th>\n",
       "      <th>LotArea</th>\n",
       "      <th>SalePrice</th>\n",
       "    </tr>\n",
       "  </thead>\n",
       "  <tbody>\n",
       "  </tbody>\n",
       "</table>\n",
       "</div>"
      ],
      "text/plain": [
       "Empty DataFrame\n",
       "Columns: [LotArea, SalePrice]\n",
       "Index: []"
      ]
     },
     "execution_count": 4,
     "metadata": {},
     "output_type": "execute_result"
    }
   ],
   "source": [
    "# Looking for any missing data\n",
    "LotArea_x_SalePrice[LotArea_x_SalePrice.isnull().any(axis=1)]"
   ]
  },
  {
   "cell_type": "markdown",
   "id": "b1eb9b95-ace3-4cb5-a4b2-9dbdea5f6772",
   "metadata": {},
   "source": [
    "Great! There appears to be no missing data for these two variables. Let's start comparing analyzing these two variables."
   ]
  },
  {
   "cell_type": "markdown",
   "id": "bdfe432d-e675-4691-841a-ab932ba9107c",
   "metadata": {},
   "source": [
    "### Summary for Explanatory Variable: `LotArea`"
   ]
  },
  {
   "cell_type": "code",
   "execution_count": 5,
   "id": "0fe985a4-dbdc-408c-b4bf-1d9d6da6bce1",
   "metadata": {},
   "outputs": [
    {
     "data": {
      "text/html": [
       "<div>\n",
       "<style scoped>\n",
       "    .dataframe tbody tr th:only-of-type {\n",
       "        vertical-align: middle;\n",
       "    }\n",
       "\n",
       "    .dataframe tbody tr th {\n",
       "        vertical-align: top;\n",
       "    }\n",
       "\n",
       "    .dataframe thead th {\n",
       "        text-align: right;\n",
       "    }\n",
       "</style>\n",
       "<table border=\"1\" class=\"dataframe\">\n",
       "  <thead>\n",
       "    <tr style=\"text-align: right;\">\n",
       "      <th></th>\n",
       "      <th>LotArea</th>\n",
       "    </tr>\n",
       "  </thead>\n",
       "  <tbody>\n",
       "    <tr>\n",
       "      <th>count</th>\n",
       "      <td>1460.000000</td>\n",
       "    </tr>\n",
       "    <tr>\n",
       "      <th>mean</th>\n",
       "      <td>10516.828082</td>\n",
       "    </tr>\n",
       "    <tr>\n",
       "      <th>std</th>\n",
       "      <td>9981.264932</td>\n",
       "    </tr>\n",
       "    <tr>\n",
       "      <th>min</th>\n",
       "      <td>1300.000000</td>\n",
       "    </tr>\n",
       "    <tr>\n",
       "      <th>25%</th>\n",
       "      <td>7553.500000</td>\n",
       "    </tr>\n",
       "    <tr>\n",
       "      <th>50%</th>\n",
       "      <td>9478.500000</td>\n",
       "    </tr>\n",
       "    <tr>\n",
       "      <th>75%</th>\n",
       "      <td>11601.500000</td>\n",
       "    </tr>\n",
       "    <tr>\n",
       "      <th>max</th>\n",
       "      <td>215245.000000</td>\n",
       "    </tr>\n",
       "  </tbody>\n",
       "</table>\n",
       "</div>"
      ],
      "text/plain": [
       "             LotArea\n",
       "count    1460.000000\n",
       "mean    10516.828082\n",
       "std      9981.264932\n",
       "min      1300.000000\n",
       "25%      7553.500000\n",
       "50%      9478.500000\n",
       "75%     11601.500000\n",
       "max    215245.000000"
      ]
     },
     "execution_count": 5,
     "metadata": {},
     "output_type": "execute_result"
    }
   ],
   "source": [
    "# Finding some basic numerical statistics for `LotArea`\n",
    "data[['LotArea']].describe()"
   ]
  },
  {
   "cell_type": "code",
   "execution_count": 6,
   "id": "3551dfd5-86ea-4eab-a867-2cba61f2d309",
   "metadata": {},
   "outputs": [
    {
     "name": "stdout",
     "output_type": "stream",
     "text": [
      "Median LotArea: 9478.5 sq. ft.\n"
     ]
    },
    {
     "data": {
      "image/png": "[encoded data removed]",
      "text/plain": [
       "<Figure size 432x288 with 1 Axes>"
      ]
     },
     "metadata": {
      "needs_background": "light"
     },
     "output_type": "display_data"
    }
   ],
   "source": [
    "# Creating a boxplot for LotArea\n",
    "plt.boxplot(data.LotArea, vert=False)\n",
    "plt.xlabel(\"LotArea\")\n",
    "plt.title(\"Boxplot for LotArea (sq. ft.)\")\n",
    "print(\"Median LotArea: {} sq. ft.\".format(np.median(data.LotArea)))\n",
    "plt.show()"
   ]
  },
  {
   "cell_type": "markdown",
   "id": "077800d4-ad07-409b-8038-b32bf3cec934",
   "metadata": {},
   "source": [
    "The average `LotArea` for a house is about 10,517 sq. ft., and the median `LotArea` is around 9,479 sq. ft. The shape of the boxplot for `LotArea` appears to be right-skewed with many outliers between 30,000 and 215,245 sq. ft. There appears to be a few outlying houses close to a `LotArea` of 0 sq. ft. Although the distribution for the houses' `LotArea` is relatively spread out, with a minimum `LotArea` of 1,300 sq. ft. and a maximum `LotArea` of 215,245 sq. ft (range = 213,945 sq. ft.), the middle 50%, or IQR, is 4,048 sq. ft., meaning that the middle 50% `LotArea` for the houses is relatively clustered together."
   ]
  },
  {
   "cell_type": "markdown",
   "id": "72ada84d-06ce-4df4-b0b4-68217af73d84",
   "metadata": {},
   "source": [
    "### Summary for Response Variable: `SalePrice`"
   ]
  },
  {
   "cell_type": "code",
   "execution_count": 7,
   "id": "bad097e9-ad6e-40f2-b028-02541abc2f8f",
   "metadata": {},
   "outputs": [
    {
     "data": {
      "text/html": [
       "<div>\n",
       "<style scoped>\n",
       "    .dataframe tbody tr th:only-of-type {\n",
       "        vertical-align: middle;\n",
       "    }\n",
       "\n",
       "    .dataframe tbody tr th {\n",
       "        vertical-align: top;\n",
       "    }\n",
       "\n",
       "    .dataframe thead th {\n",
       "        text-align: right;\n",
       "    }\n",
       "</style>\n",
       "<table border=\"1\" class=\"dataframe\">\n",
       "  <thead>\n",
       "    <tr style=\"text-align: right;\">\n",
       "      <th></th>\n",
       "      <th>SalePrice</th>\n",
       "    </tr>\n",
       "  </thead>\n",
       "  <tbody>\n",
       "    <tr>\n",
       "      <th>count</th>\n",
       "      <td>1460.000000</td>\n",
       "    </tr>\n",
       "    <tr>\n",
       "      <th>mean</th>\n",
       "      <td>180921.195890</td>\n",
       "    </tr>\n",
       "    <tr>\n",
       "      <th>std</th>\n",
       "      <td>79442.502883</td>\n",
       "    </tr>\n",
       "    <tr>\n",
       "      <th>min</th>\n",
       "      <td>34900.000000</td>\n",
       "    </tr>\n",
       "    <tr>\n",
       "      <th>25%</th>\n",
       "      <td>129975.000000</td>\n",
       "    </tr>\n",
       "    <tr>\n",
       "      <th>50%</th>\n",
       "      <td>163000.000000</td>\n",
       "    </tr>\n",
       "    <tr>\n",
       "      <th>75%</th>\n",
       "      <td>214000.000000</td>\n",
       "    </tr>\n",
       "    <tr>\n",
       "      <th>max</th>\n",
       "      <td>755000.000000</td>\n",
       "    </tr>\n",
       "  </tbody>\n",
       "</table>\n",
       "</div>"
      ],
      "text/plain": [
       "           SalePrice\n",
       "count    1460.000000\n",
       "mean   180921.195890\n",
       "std     79442.502883\n",
       "min     34900.000000\n",
       "25%    129975.000000\n",
       "50%    163000.000000\n",
       "75%    214000.000000\n",
       "max    755000.000000"
      ]
     },
     "execution_count": 7,
     "metadata": {},
     "output_type": "execute_result"
    }
   ],
   "source": [
    "# Finding some basic numerical statistics for `SalePrice`\n",
    "data[['SalePrice']].describe()"
   ]
  },
  {
   "cell_type": "code",
   "execution_count": 8,
   "id": "8898d5d5-a50f-4da7-91d7-32a3a677723a",
   "metadata": {},
   "outputs": [
    {
     "name": "stdout",
     "output_type": "stream",
     "text": [
      "Median SalePrice: 163000.0 USD\n"
     ]
    },
    {
     "data": {
      "image/png": "[encoded data removed]",
      "text/plain": [
       "<Figure size 432x288 with 1 Axes>"
      ]
     },
     "metadata": {
      "needs_background": "light"
     },
     "output_type": "display_data"
    }
   ],
   "source": [
    "# Creating a boxplot for SalePrice\n",
    "plt.boxplot(data.SalePrice, vert=False)\n",
    "plt.xlabel(\"SalePrice (USD)\")\n",
    "plt.title(\"Boxplot for SalePrice\")\n",
    "print(\"Median SalePrice: {} USD\".format(np.median(data.SalePrice)))\n",
    "plt.show()"
   ]
  },
  {
   "cell_type": "markdown",
   "id": "eda55e59-7015-4fb1-96ff-a249b6236bc3",
   "metadata": {},
   "source": [
    "The average house's `SalePrice` is about 180,921 USD, and the median `SalePrice` is around 163,000 USD. The shape of the boxplot for the distribution of houses' `SalePrice` appears to be right-skewed with many outliers between 330,000 and 755,000 USD. There appears to be no outliers in the `SalePrice` < 130,000 USD. Although the distribution for the houses' `SalePrice` is relatively spread out, with a minimum `SalePrice` of 34,900 USD and a maximum `SalePrice` of 755,000 USD (range = 720,100 USD), the middle 50%, or IQR, is 84,025 USD, meaning that the middle 50% `SalePrice` for the houses is relatively clustered together."
   ]
  },
  {
   "cell_type": "markdown",
   "id": "230ce06c-c1ad-411c-b3e5-5a91f07aeb91",
   "metadata": {},
   "source": [
    "### Scatterplots for `LotArea` and `SalePrice`"
   ]
  },
  {
   "cell_type": "code",
   "execution_count": 9,
   "id": "d1d447e1-9d94-46ad-9602-520ed07b6fa5",
   "metadata": {},
   "outputs": [
    {
     "name": "stdout",
     "output_type": "stream",
     "text": [
      "LSRL: y_hat = 158836.15189687657+2.0999719517076754x\n",
      "\n"
     ]
    },
    {
     "data": {
      "image/png": "[encoded data removed]",
      "text/plain": [
       "<Figure size 432x288 with 1 Axes>"
      ]
     },
     "metadata": {
      "needs_background": "light"
     },
     "output_type": "display_data"
    }
   ],
   "source": [
    "# Creating a scatterplot comparing LotArea and SalePrice\n",
    "lot_areas = np.array([i for i in data.LotArea])\n",
    "sale_prices = np.array([i for i in data.SalePrice])\n",
    "plt.scatter(lot_areas, sale_prices, alpha=0.2)\n",
    "plt.title(\"Sale Price by Lot Area\")\n",
    "plt.xlabel(\"Lot Area (sq. ft)\")\n",
    "plt.ylabel(\"Sale Price (USD)\")\n",
    "\n",
    "(slope, intercept) = linregress(lot_areas,sale_prices)[:2]\n",
    "y_pred = intercept + slope*lot_areas\n",
    "plt.plot(lot_areas,y_pred, color=\"green\", label=\"Fitted line\")\n",
    "\n",
    "print(\"LSRL: y_hat = {}+{}x\\n\".format(intercept, slope))\n",
    "\n",
    "plt.show()"
   ]
  },
  {
   "cell_type": "markdown",
   "id": "8e05a7fc-f0b8-4c3c-8ae5-95b35cdf649c",
   "metadata": {},
   "source": [
    "### Analysis of Scatterplot for `SalePrice` by `LotArea`"
   ]
  },
  {
   "cell_type": "markdown",
   "id": "94524e01-18a5-4324-9ed7-63f2eb9cb23e",
   "metadata": {},
   "source": [
    "There appears to be a very weak, positive, linear association between the `LotArea` of a house and its `SalePrice`. In the scatterplot relating `LotArea` and `SalePrice`, there appear to be many outliers in both the x-axis and y-axis. For example, in that scatterplot, there are a lot of observations with `LotArea` > 20,000 sq. ft. that deviate from the large blob of values around 0 < `LotArea` < 20,000 sq. ft. These deviating observations can be considered as influential observations because they appear to bring the slope of the LSRL down from the expected, greater slope for the LSRL that would travel through the blob. As a result of the influential observations, the LSRL appears to not travel through the majority of the points (houses) with `LotArea` < 20,000 sq. ft. This is especially relevant because the alpha-gradient shading demonstrates that the data is highly concentrated around values with `LotArea` < 20,000 sq.ft.\n",
    "\n",
    "Based off the scatterplot and the path of the LSRL, from a visual standpoint, relating `LotArea` to `Saleprice`, using a linear model would probably not be appropriate."
   ]
  },
  {
   "cell_type": "markdown",
   "id": "a8e5cce5-129e-4e67-872c-8f8f04958e60",
   "metadata": {},
   "source": [
    "## Diving into Sliced Data for `LotArea` and `SalePrice`"
   ]
  },
  {
   "cell_type": "markdown",
   "id": "c4a728bc-20e3-49ca-8644-91a6c490ad37",
   "metadata": {},
   "source": [
    "If I remove the influential observations and zoom in on the blob, the LSRL might be more appropriate, especially from a visual standpoint."
   ]
  },
  {
   "cell_type": "code",
   "execution_count": 10,
   "id": "17d1724c-1128-4536-87d2-0a4275cdf697",
   "metadata": {},
   "outputs": [],
   "source": [
    "# Removing all data with LotArea > 20,000 sq. ft., as these values appear to be deviating from the blob\n",
    "sliced_data = data[data.LotArea < 20000]"
   ]
  },
  {
   "cell_type": "markdown",
   "id": "775ab204-0ddd-4937-ab2c-286d76a8b006",
   "metadata": {},
   "source": [
    "### Scatterplot for Sliced Data for `LotArea` and `SalePrice`"
   ]
  },
  {
   "cell_type": "code",
   "execution_count": 11,
   "id": "0a280cf8-9e0b-4e7b-8ab3-45986540fab3",
   "metadata": {},
   "outputs": [
    {
     "name": "stdout",
     "output_type": "stream",
     "text": [
      "Slope: 9.52677794291575\n",
      "Intercept: 89048.88524500681\n",
      "r value: 0.41875319304983233\n",
      "r^2: 0.17535423668943015\n",
      "\n",
      "LSRL: y_hat = 89048.88524500681+9.52677794291575x\n",
      "\n"
     ]
    },
    {
     "data": {
      "image/png": "[encoded data removed]",
      "text/plain": [
       "<Figure size 432x288 with 1 Axes>"
      ]
     },
     "metadata": {
      "needs_background": "light"
     },
     "output_type": "display_data"
    }
   ],
   "source": [
    "# Creating a scatterplot comparing LotArea and SalePrice\n",
    "lot_areas = np.array([i for i in sliced_data.LotArea])\n",
    "sale_prices = np.array([i for i in sliced_data.SalePrice])\n",
    "plt.scatter(lot_areas, sale_prices, alpha=0.2)\n",
    "plt.title(\"Sale Price by Lot Area, LotArea < 20000\")\n",
    "plt.xlabel(\"Lot Area (sq. ft)\")\n",
    "plt.ylabel(\"Sale Price (USD)\")\n",
    "\n",
    "(slope, intercept, rvalue) = linregress(lot_areas,sale_prices)[:3]\n",
    "y_pred = intercept + slope*lot_areas\n",
    "plt.plot(lot_areas,y_pred, color=\"green\", label=\"Fitted line\")\n",
    "\n",
    "print(\"Slope: {}\\nIntercept: {}\\nr value: {}\\nr^2: {}\\n\".format(slope, intercept, rvalue, rvalue**2))\n",
    "print(\"LSRL: y_hat = {}+{}x\\n\".format(intercept, slope))\n",
    "\n",
    "plt.show()"
   ]
  },
  {
   "cell_type": "markdown",
   "id": "d83d3d48-ce8e-487a-b433-2c83b5bf1910",
   "metadata": {},
   "source": [
    "### Residual Plot for Sliced Data for `LotArea` and `SalePrice`"
   ]
  },
  {
   "cell_type": "code",
   "execution_count": 12,
   "id": "caa80adf-1657-4255-bb93-65ac73881b63",
   "metadata": {},
   "outputs": [
    {
     "name": "stdout",
     "output_type": "stream",
     "text": [
      "Standard Deviation of Residuals: $68738.58030266473\n"
     ]
    },
    {
     "data": {
      "image/png": "[encoded data removed]",
      "text/plain": [
       "<Figure size 432x288 with 1 Axes>"
      ]
     },
     "metadata": {},
     "output_type": "display_data"
    }
   ],
   "source": [
    "# Creating a residual plot for the LSRL relating LotArea and SalePrice\n",
    "def get_y_hat(x_set):\n",
    "    y_hats = []\n",
    "    for x in x_set:\n",
    "        y_hat = slope*x + intercept\n",
    "        y_hats.append(y_hat)\n",
    "    return y_hats\n",
    "\n",
    "y_hats = get_y_hat(lot_areas)\n",
    "residuals = sale_prices - y_hats\n",
    "# std. dev. of residuals (s) = sqrt(sigma(residuals^2) / n-1)\n",
    "s = math.sqrt((sum(residuals**2)) / (len(lot_areas)-1))\n",
    "print(\"Standard Deviation of Residuals: ${}\".format(s))\n",
    "\n",
    "import seaborn\n",
    "seaborn.set(style='ticks')\n",
    "plt.plot(lot_areas, residuals,'o',alpha=0.2)\n",
    "plt.axhline(y=0, color='k')\n",
    "plt.ylabel(\"Residual\")\n",
    "plt.xlabel(\"Lot Area\")\n",
    "plt.title(\"Sale Price by Lot Area LSRL Residual Plot, LotArea < 50000\")\n",
    "plt.show()"
   ]
  },
  {
   "cell_type": "markdown",
   "id": "e34510d7-fa1e-4a5a-9f26-57c19d9a8d9d",
   "metadata": {},
   "source": [
    "### Analysis for Sliced `LotArea` and `SalePrice` Graphs\n",
    "\n",
    "In the scatterplot relating `LotArea` and `SalePrice` where the `LotArea` values are all less than 20,000 sq. ft, there appears to be a moderately strong, positive, linear relationship relating the sliced `LotArea` and `SalePrice` data. There are a couple outliers in the scatterplot relating the sliced `LotArea` and `SalePrice` values. For example, there are houses with `LotArea` between 12,500 and 17,500 sq. ft. with a `SalePrice` that is significantly greater than most other houses with a `LotArea` between that range. Conversely, there are also houses with a `LotArea` between 17,500 sq. ft. and 20,000 sq. ft. with a `SalePrice` that is less than most other houses with a `LotArea` between that range. In the residual plot above, there does not appear to be any obvious patterns. Thus, based off the scatterplot and residual plot, a linear model relating the sliced data for `SalePrice` and `LotArea` is reasonable.\n",
    "\n",
    "From the computer output, the estimated `SalePrice` based on the `LotArea` is modeled with the LSRL of `predicted_SalePrice` = 89048.88524500681+9.52677794291575*`LotArea`. This means that the predicted `SalePrice` of a house increases approximately 9.53 USD for every increase of 1 sq. ft. of `LotArea`. The LSRL intercept, 89048.88524500681 USD, represents the estimated value of a house with a `LotArea` = 0. To demonstrate the LSRL, it predicts a `SalePrice` for a house with a `LotArea` of 15,000 USD to be around (89048.88524500681+9.52677794291575(15,000)) 231,951 USD. If we look at the scatterplot for the sliced data, there appear to be houses with a `LotArea` of 15,000 sq. ft. whose `SalePrice` is between 200,000 and 300,000 USD. So, the LSRL's prediction seems reasonable.\n",
    "\n",
    "The `r-value` = 0.41875319304983233, meaning that the distributions of `LotArea` and `SalePrice` are moderately strongly correlated. The standard deviation of the residuals is `s` = 68738.58030266473 USD, meaning that the LSRL's predicted values will typically be off by 68738.58 USD when using a linear model to relate `LotArea` and `SalePrice`. Finally, the `r^2-value` = 0.17535423668943015, meaning that around 17.5% of the `SalePrice` variation is accounted by the LSRL relating `LotArea` and `SalePrice`.\n",
    "\n",
    "Based off the scatterplot, path of the LSRL in the scatterplot, moderately strong correlation, and lack of obvious pattern in the residual plot relating the sliced values of `LotArea` < 20,000 sq. ft. to `SalePrice`, using a linear model is reasonably appropriate, but the predictions may not be very accurate. The LSRL's typical prediction error is around 68738.58 USD, and around 82% of the variation in the dataset is unaccounted for by the LSRL."
   ]
  },
  {
   "cell_type": "markdown",
   "id": "93688bb7-461b-46f9-9910-af1d0280d86b",
   "metadata": {},
   "source": [
    "## Conclusion"
   ]
  },
  {
   "cell_type": "markdown",
   "id": "74e66e73-2116-403f-b178-67e87f553f9d",
   "metadata": {},
   "source": [
    "In the house pricing dataset for houses in Ames, Iowa, using a linear model to compare each house's `LotArea` to its `SalePrice` does not seem reasonable, but using a linear model to compare each house's `LotArea` to its `SalePrice` when the house's `LotArea` < 20,000 sq. ft. is more reasonable.\n",
    "\n",
    "A potential problem with the analysis of `LotArea` and `SalePrice` is that the dataset may have contained incorrect data due to a number of reasons including `LotArea` measurement error. The data was recorded over a period of 4 years, and the size of each house's lot (`LotArea`) may have changed and its `LotArea` entry may not have been updated. These measurement errors likely skewed the results of the data, and the influence of the skew depends on how much incorrect data was recorded.\n",
    "\n",
    "For further study, one might analyze how the other 78 explanatory variables affect the `SalePrice`, such as masonry veneer area (`MasVnrArea`) or the year the garage was built (`GarageYrBlt`). Some explanatory variables are categorical data, so using a LSRL and linear model probably would not be appropriate."
   ]
  }
 ],
 "metadata": {
  "kernelspec": {
   "display_name": "Python 3",
   "language": "python",
   "name": "python3"
  },
  "language_info": {
   "codemirror_mode": {
    "name": "ipython",
    "version": 3
   },
   "file_extension": ".py",
   "mimetype": "text/x-python",
   "name": "python",
   "nbconvert_exporter": "python",
   "pygments_lexer": "ipython3",
   "version": "3.8.8"
  }
 },
 "nbformat": 4,
 "nbformat_minor": 5
}
